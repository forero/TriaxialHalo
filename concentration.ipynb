{
 "metadata": {
  "name": ""
 },
 "nbformat": 3,
 "nbformat_minor": 0,
 "worksheets": [
  {
   "cells": [
    {
     "cell_type": "code",
     "collapsed": false,
     "input": [
      "%pylab inline\n",
      "from scipy.optimize import ridder\n",
      "from scipy.optimize import fsolve"
     ],
     "language": "python",
     "metadata": {},
     "outputs": [
      {
       "output_type": "stream",
       "stream": "stdout",
       "text": [
        "Populating the interactive namespace from numpy and matplotlib\n"
       ]
      }
     ],
     "prompt_number": 95
    },
    {
     "cell_type": "markdown",
     "metadata": {},
     "source": [
      "This notebook uses code written by Christian Poveda. \n",
      "The original repos are here:\n",
      "\n",
      "For the halo generator: https://github.com/povedaruiz/HaloGenerator/blob/master/src/main.py\n",
      "\n",
      "For the concentration measurement https://github.com/povedaruiz/MACH/blob/master/src/velocity.py"
     ]
    },
    {
     "cell_type": "code",
     "collapsed": false,
     "input": [
      "def conc_from_v(c, v_max=1.0):\n",
      "    \"\"\"\n",
      "    Defines the relationship between the concentration and the maximum velocity.\n",
      "    The root of this function corresponds to the concentration value\n",
      "    \"\"\"\n",
      "    return v_max - np.sqrt(0.216*c/(np.log(1+c)-c/(1+c)))\n",
      "\n",
      "def mass (r,c):\n",
      "    return (np.log(1.0+r*c)-r*c/(1.0+r*c))/(np.log(1.0+c)-c/(1.0+c))\n",
      "def generate_halo(conc,n, a=1.0, b=1.0, c=1.0):\n",
      "    dm = 1.0/n\n",
      "    n = int(n)\n",
      "    r = np.array([ridder(lambda r: mass(r,conc) - k*dm,0,1) for k in range(n)])\n",
      "    theta = np.arccos(2*np.random.random(n)-1)\n",
      "    phi = 2.0 * np.pi * np.random.random(n)\n",
      "    x = a * r * np.sin(theta) * np.cos(phi)\n",
      "    y = b * r * np.sin(theta) * np.sin(phi)\n",
      "    z = c * r * np.cos(theta)\n",
      "    data = np.dstack((x,y,z))[0]\n",
      "    return data"
     ],
     "language": "python",
     "metadata": {},
     "outputs": [],
     "prompt_number": 101
    },
    {
     "cell_type": "code",
     "collapsed": false,
     "input": [
      "n_points = 10000\n",
      "input_conc = 4.0\n",
      "halo_A = generate_halo(input_conc, n_points)\n",
      "halo_B = generate_halo(input_conc, n_points, a=1.0, b=0.80, c=0.80)"
     ],
     "language": "python",
     "metadata": {},
     "outputs": [],
     "prompt_number": 110
    },
    {
     "cell_type": "code",
     "collapsed": false,
     "input": [
      "radius_A = sqrt(halo_A[:,0]**2 + halo_A[:,1]**2 + halo_A[:,2]**2)\n",
      "radius_B = sqrt(halo_B[:,0]**2 + halo_B[:,1]**2 + halo_B[:,2]**2)\n",
      "radius_A = sort(radius_A)\n",
      "radius_B= sort(radius_B)\n",
      "mass_tot = linspace(0.0,1.0,n_points)\n",
      "\n",
      "velocity_A = sqrt((mass_tot)/(radius_A+1E-10))\n",
      "velocity_B = sqrt(mass_tot/(radius_B + 1E-10))\n",
      "\n",
      "radius_vmax_A = radius_A[argmax(velocity_A)]\n",
      "radius_vmax_B = radius_B[argmax(velocity_B)]\n",
      "print radius_vmax_A, radius_vmax_B\n",
      "conc_A = fsolve(conc_from_v,10, args=(amax(velocity_A)))\n",
      "conc_B = fsolve(conc_from_v,10, args=(amax(velocity_B)))\n",
      "\n",
      "print conc_A\n",
      "print conc_B"
     ],
     "language": "python",
     "metadata": {},
     "outputs": [
      {
       "output_type": "stream",
       "stream": "stdout",
       "text": [
        "0.54067575294 0.453025244977\n",
        "[ 4.02103679]\n",
        "[ 6.72438927]\n"
       ]
      }
     ],
     "prompt_number": 111
    },
    {
     "cell_type": "code",
     "collapsed": false,
     "input": [
      "plot(radius_A,velocity_A)\n",
      "plot(radius_B,velocity_B)"
     ],
     "language": "python",
     "metadata": {},
     "outputs": [
      {
       "metadata": {},
       "output_type": "pyout",
       "prompt_number": 112,
       "text": [
        "[<matplotlib.lines.Line2D at 0x105c9c990>]"
       ]
      },
      {
       "metadata": {},
       "output_type": "display_data",
       "png": "[encoded data removed]",
       "text": [
        "<matplotlib.figure.Figure at 0x1058b6090>"
       ]
      }
     ],
     "prompt_number": 112
    },
    {
     "cell_type": "code",
     "collapsed": false,
     "input": [],
     "language": "python",
     "metadata": {},
     "outputs": []
    }
   ],
   "metadata": {}
  }
 ]
}