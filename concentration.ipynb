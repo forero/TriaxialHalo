{
 "metadata": {
  "name": ""
 },
 "nbformat": 3,
 "nbformat_minor": 0,
 "worksheets": [
  {
   "cells": [
    {
     "cell_type": "code",
     "collapsed": false,
     "input": [
      "%pylab inline\n",
      "from scipy.optimize import ridder"
     ],
     "language": "python",
     "metadata": {},
     "outputs": [
      {
       "output_type": "stream",
       "stream": "stdout",
       "text": [
        "Populating the interactive namespace from numpy and matplotlib\n"
       ]
      }
     ],
     "prompt_number": 6
    },
    {
     "cell_type": "markdown",
     "metadata": {},
     "source": [
      "This notebook uses code written by Christian Poveda. \n",
      "The original repos are here:\n",
      "\n",
      "For the halo generator: https://github.com/povedaruiz/HaloGenerator/blob/master/src/main.py\n",
      "\n",
      "For the concentration measurement https://github.com/povedaruiz/MACH/blob/master/src/velocity.py"
     ]
    },
    {
     "cell_type": "code",
     "collapsed": false,
     "input": [
      "def mass (r,c):\n",
      "    return (np.log(1.0+r*c)-r*c/(1.0+r*c))/(np.log(1.0+c)-c/(1.0+c))\n",
      "def generate_halo(conc,n, a=1.0, b=1.0, c=1.0):\n",
      "    dm = 1.0/n\n",
      "    n = int(n)\n",
      "    r = np.array([ridder(lambda r: mass(r,conc) - k*dm,0,1) for k in range(n)])\n",
      "    theta = np.arccos(2*np.random.random(n)-1)\n",
      "    phi = 2.0 * np.pi * np.random.random(n)\n",
      "    x = a * r * np.sin(theta) * np.cos(phi)\n",
      "    y = b * r * np.sin(theta) * np.sin(phi)\n",
      "    z = c * r * np.cos(theta)\n",
      "    data = np.dstack((x,y,z))[0]\n",
      "    return data"
     ],
     "language": "python",
     "metadata": {},
     "outputs": [],
     "prompt_number": 60
    },
    {
     "cell_type": "code",
     "collapsed": false,
     "input": [
      "n_points = 5000\n",
      "halo_A = generate_halo(10.0, n_points)\n",
      "halo_B = generate_halo(10.0, n_points, a=1.0, b=0.80, c=0.80)"
     ],
     "language": "python",
     "metadata": {},
     "outputs": [],
     "prompt_number": 67
    },
    {
     "cell_type": "code",
     "collapsed": false,
     "input": [
      "radius_A = sqrt(halo_A[:,0]**2 + halo_A[:,1]**2 + halo_A[:,2]**2)\n",
      "radius_B = sqrt(halo_B[:,0]**2 + halo_B[:,1]**2 + halo_B[:,2]**2)\n",
      "radius_A = sort(radius_A)\n",
      "radius_B= sort(radius_B)\n",
      "mass_tot = linspace(0.0,1.0,n_points)\n",
      "\n",
      "velocity_A = sqrt((mass_tot)/(radius_A+1E-10))\n",
      "velocity_B = sqrt(mass_tot/(radius_B + 1E-10))\n",
      "\n",
      "radius_vmax_A = radius_A[argmax(velocity_A)]\n",
      "radius_vmax_B = radius_B[argmax(velocity_A)]\n",
      "print radius_vmax_A, radius_vmax_B"
     ],
     "language": "python",
     "metadata": {},
     "outputs": [
      {
       "output_type": "stream",
       "stream": "stdout",
       "text": [
        "0.216211236313 0.188183108262\n"
       ]
      }
     ],
     "prompt_number": 80
    },
    {
     "cell_type": "code",
     "collapsed": false,
     "input": [
      "plot(radius_A,velocity_A)\n",
      "plot(radius_B,velocity_B)"
     ],
     "language": "python",
     "metadata": {},
     "outputs": [
      {
       "metadata": {},
       "output_type": "pyout",
       "prompt_number": 79,
       "text": [
        "[<matplotlib.lines.Line2D at 0x105cc9050>]"
       ]
      },
      {
       "metadata": {},
       "output_type": "display_data",
       "png": "[encoded data removed]",
       "text": [
        "<matplotlib.figure.Figure at 0x105cc9990>"
       ]
      }
     ],
     "prompt_number": 79
    },
    {
     "cell_type": "code",
     "collapsed": false,
     "input": [],
     "language": "python",
     "metadata": {},
     "outputs": []
    }
   ],
   "metadata": {}
  }
 ]
}